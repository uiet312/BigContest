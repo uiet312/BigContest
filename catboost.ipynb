{
 "cells": [
  {
   "cell_type": "markdown",
   "id": "3b93480c",
   "metadata": {},
   "source": [
    "## catboost 공식 문서 참고\n",
    "# https://catboost.ai/docs/concepts/python-usages-examples.html"
   ]
  },
  {
   "cell_type": "markdown",
   "id": "5a39f5db",
   "metadata": {},
   "source": [
    "# 회귀"
   ]
  },
  {
   "cell_type": "code",
   "execution_count": 1,
   "id": "058b66a8",
   "metadata": {},
   "outputs": [
    {
     "name": "stdout",
     "output_type": "stream",
     "text": [
      "0:\tlearn: 6.1237244\ttotal: 143ms\tremaining: 143ms\n",
      "1:\tlearn: 4.5927933\ttotal: 144ms\tremaining: 0us\n"
     ]
    }
   ],
   "source": [
    "from catboost import CatBoostRegressor\n",
    "\n",
    "train_data = [[1, 4, 5, 6],\n",
    "             [4, 5, 6, 7],\n",
    "             [30, 40, 50, 60]]\n",
    "\n",
    "eval_data = [[2, 4, 6, 8],\n",
    "            [1, 4, 50, 60]]\n",
    "\n",
    "train_labels = [10, 20, 30]\n",
    "\n",
    "model = CatBoostRegressor(iterations=2,\n",
    "                       learning_rate=1,\n",
    "                       depth=2)\n",
    "\n",
    "model.fit(train_data, train_labels)\n",
    "\n",
    "pred = model.predict(eval_data)"
   ]
  },
  {
   "cell_type": "markdown",
   "id": "ea2e2cfc",
   "metadata": {},
   "source": [
    "# GPU,CPU에서 학습"
   ]
  },
  {
   "cell_type": "code",
   "execution_count": 2,
   "id": "9f4b0e68",
   "metadata": {},
   "outputs": [
    {
     "data": {
      "text/plain": [
       "<catboost.core.CatBoostClassifier at 0x16d7e9378b0>"
      ]
     },
     "execution_count": 2,
     "metadata": {},
     "output_type": "execute_result"
    }
   ],
   "source": [
    "from catboost import CatBoostClassifier\n",
    "\n",
    "train_data = [[0, 3],\n",
    "              [4, 1],\n",
    "              [8, 1],\n",
    "              [9, 1]]\n",
    "train_labels = [0, 0, 1, 1]\n",
    "\n",
    "model = CatBoostClassifier(iterations=1000, \n",
    "                           task_type=\"CPU\",\n",
    "                           devices='0:1')\n",
    "model.fit(train_data,\n",
    "          train_labels,\n",
    "          verbose=False)"
   ]
  },
  {
   "cell_type": "markdown",
   "id": "0ff7b19b",
   "metadata": {},
   "source": [
    "# 이진 분류"
   ]
  },
  {
   "cell_type": "code",
   "execution_count": 3,
   "id": "b8258d38",
   "metadata": {},
   "outputs": [
    {
     "name": "stdout",
     "output_type": "stream",
     "text": [
      "0:\tlearn: 0.5800330\ttotal: 280us\tremaining: 280us\n",
      "1:\tlearn: 0.4935379\ttotal: 741us\tremaining: 0us\n",
      "[[0.62985501 0.37014499]\n",
      " [0.5358421  0.4641579 ]]\n"
     ]
    },
    {
     "data": {
      "text/plain": [
       "array([1, 1], dtype=int64)"
      ]
     },
     "execution_count": 3,
     "metadata": {},
     "output_type": "execute_result"
    }
   ],
   "source": [
    "from catboost import CatBoostClassifier\n",
    "\n",
    "cat_features = [0, 1]\n",
    "\n",
    "train_data = [[\"a\", \"b\", 1, 4, 5, 6],\n",
    "              [\"a\", \"b\", 4, 5, 6, 7],\n",
    "              [\"c\", \"d\", 30, 40, 50, 60]]\n",
    "\n",
    "train_labels = [1,1,2]\n",
    "\n",
    "eval_data = [[\"a\", \"b\", 2, 4, 6, 8],\n",
    "             [\"a\", \"d\", 1, 4, 50, 60]]\n",
    "              \n",
    "model = CatBoostClassifier(iterations=2,\n",
    "                           learning_rate=1,\n",
    "                           depth=2)\n",
    "              \n",
    "model.fit(train_data, train_labels, cat_features)\n",
    "\n",
    "preds_class = model.predict(eval_data)\n",
    "\n",
    "preds_proba = model.predict_proba(eval_data)\n",
    "\n",
    "preds_raw = model.predict(eval_data, prediction_type='RawFormulaVal')\n",
    "\n",
    "print(preds_proba)\n",
    "preds_class"
   ]
  },
  {
   "cell_type": "markdown",
   "id": "661672f6",
   "metadata": {},
   "source": [
    "# Pool을 활용한 데이터 셋 구축"
   ]
  },
  {
   "cell_type": "code",
   "execution_count": 4,
   "id": "9a0eafe8",
   "metadata": {},
   "outputs": [
    {
     "name": "stdout",
     "output_type": "stream",
     "text": [
      "Learning rate set to 0.058839\n",
      "0:\tlearn: 0.6879920\ttotal: 373us\tremaining: 3.36ms\n",
      "1:\tlearn: 0.6815428\ttotal: 622us\tremaining: 2.49ms\n",
      "2:\tlearn: 0.6765119\ttotal: 984us\tremaining: 2.3ms\n",
      "3:\tlearn: 0.6715373\ttotal: 1.33ms\tremaining: 2ms\n",
      "4:\tlearn: 0.6653022\ttotal: 1.73ms\tremaining: 1.73ms\n",
      "5:\tlearn: 0.6591482\ttotal: 2.06ms\tremaining: 1.37ms\n",
      "6:\tlearn: 0.6543562\ttotal: 2.55ms\tremaining: 1.09ms\n",
      "7:\tlearn: 0.6496176\ttotal: 2.93ms\tremaining: 732us\n",
      "8:\tlearn: 0.6436669\ttotal: 3.29ms\tremaining: 365us\n",
      "9:\tlearn: 0.6377932\ttotal: 3.62ms\tremaining: 0us\n"
     ]
    },
    {
     "data": {
      "text/plain": [
       "<catboost.core.Pool at 0x16d7e946520>"
      ]
     },
     "execution_count": 4,
     "metadata": {},
     "output_type": "execute_result"
    }
   ],
   "source": [
    "from catboost import CatBoostClassifier, Pool\n",
    "\n",
    "train_data = Pool(data=[[1, 4, 5, 6],\n",
    "                        [4, 5, 6, 7],\n",
    "                        [30, 40, 50, 60]],\n",
    "                  label=[1, 1, -1],\n",
    "                  weight=[0.1, 0.2, 0.3])\n",
    "\n",
    "model = CatBoostClassifier(iterations=10)\n",
    "\n",
    "model.fit(train_data)\n",
    "preds_class = model.predict(train_data)\n",
    "\n",
    "train_data"
   ]
  },
  {
   "cell_type": "markdown",
   "id": "75949b32",
   "metadata": {},
   "source": [
    "# 다중 분류"
   ]
  },
  {
   "cell_type": "code",
   "execution_count": 5,
   "id": "7f00b52e",
   "metadata": {},
   "outputs": [
    {
     "name": "stdout",
     "output_type": "stream",
     "text": [
      "0:\tlearn: 0.9417331\ttotal: 183us\tremaining: 1.65ms\n",
      "1:\tlearn: 0.8421839\ttotal: 466us\tremaining: 1.86ms\n",
      "2:\tlearn: 0.6597822\ttotal: 616us\tremaining: 1.44ms\n",
      "3:\tlearn: 0.6028493\ttotal: 811us\tremaining: 1.22ms\n",
      "4:\tlearn: 0.4900112\ttotal: 1.03ms\tremaining: 1.03ms\n",
      "5:\tlearn: 0.4076408\ttotal: 1.25ms\tremaining: 834us\n",
      "6:\tlearn: 0.3458205\ttotal: 1.45ms\tremaining: 623us\n",
      "7:\tlearn: 0.2982687\ttotal: 1.66ms\tremaining: 415us\n",
      "8:\tlearn: 0.2608927\ttotal: 1.87ms\tremaining: 207us\n",
      "9:\tlearn: 0.2309514\ttotal: 2.06ms\tremaining: 0us\n",
      "[['USA']\n",
      " ['USA']\n",
      " ['UK']\n",
      " ['USA']]\n",
      "[[0.20060959 0.2862616  0.51312881]\n",
      " [0.07388963 0.06071726 0.86539311]\n",
      " [0.27590481 0.46474219 0.259353  ]\n",
      " [0.2580995  0.1213261  0.6205744 ]]\n",
      "[[-0.43157053 -0.07602515  0.50759567]\n",
      " [-0.75475564 -0.95110009  1.70585572]\n",
      " [-0.15318701  0.36823989 -0.21505288]\n",
      " [-0.04081236 -0.7956756   0.83648797]]\n"
     ]
    }
   ],
   "source": [
    "from catboost import Pool, CatBoostClassifier\n",
    "\n",
    "train_data = [[\"summer\", 1924, 44],\n",
    "              [\"summer\", 1932, 37],\n",
    "              [\"winter\", 1980, 37],\n",
    "              [\"summer\", 2012, 204]]\n",
    "\n",
    "eval_data = [[\"winter\", 1996, 197],\n",
    "             [\"winter\", 1968, 37],\n",
    "             [\"summer\", 2002, 77],\n",
    "             [\"summer\", 1948, 59]]\n",
    "\n",
    "cat_features = [0]\n",
    "\n",
    "train_label = [\"France\", \"USA\", \"USA\", \"UK\"]\n",
    "eval_label = [\"USA\", \"France\", \"USA\", \"UK\"]\n",
    "\n",
    "train_dataset = Pool(data=train_data,\n",
    "                     label=train_label,\n",
    "                     cat_features=cat_features)\n",
    "\n",
    "eval_dataset = Pool(data=eval_data,\n",
    "                    label=eval_label,\n",
    "                    cat_features=cat_features)\n",
    "\n",
    "model = CatBoostClassifier(iterations=10,\n",
    "                           learning_rate=1,\n",
    "                           depth=2,\n",
    "                           loss_function='MultiClass')\n",
    "\n",
    "model.fit(train_dataset)\n",
    "\n",
    "preds_class = model.predict(eval_dataset)\n",
    "\n",
    "preds_proba = model.predict_proba(eval_dataset)\n",
    "\n",
    "preds_raw = model.predict(eval_dataset, prediction_type='RawFormulaVal')\n",
    "\n",
    "print(preds_class)\n",
    "print(preds_proba)\n",
    "print(preds_raw)"
   ]
  },
  {
   "cell_type": "markdown",
   "id": "dbdb2ede",
   "metadata": {},
   "source": [
    "# best_score 구하기"
   ]
  },
  {
   "cell_type": "code",
   "execution_count": 6,
   "id": "56a9215c",
   "metadata": {},
   "outputs": [
    {
     "name": "stdout",
     "output_type": "stream",
     "text": [
      "{'learn': {'Logloss': 0.005758294697120604, 'AUC': 1.0}, 'validation': {'Logloss': 0.5366281810311608, 'AUC': 1.0}}\n"
     ]
    }
   ],
   "source": [
    "from catboost import CatBoostClassifier, Pool\n",
    "\n",
    "train_data = [[0, 3],\n",
    "              [4, 1],\n",
    "              [8, 1],\n",
    "              [9, 1]]\n",
    "\n",
    "train_labels = [0, 0, 1, 1]\n",
    "\n",
    "eval_data = [[2, 1],\n",
    "             [3, 1],\n",
    "             [9, 0],\n",
    "             [5, 3]]\n",
    "\n",
    "eval_labels = [0, 1, 1, 0]\n",
    "\n",
    "eval_dataset = Pool(eval_data,\n",
    "                    eval_labels)\n",
    "\n",
    "model = CatBoostClassifier(learning_rate=0.03,\n",
    "                           custom_metric=['Logloss',\n",
    "                                          'AUC:hints=skip_train~false'])\n",
    "\n",
    "model.fit(train_data,\n",
    "          train_labels,\n",
    "          eval_set=eval_dataset,\n",
    "          verbose=False)\n",
    "\n",
    "print(model.get_best_score())"
   ]
  },
  {
   "cell_type": "markdown",
   "id": "edb8d7e7",
   "metadata": {},
   "source": [
    "# 최적의 iteration 값 구하기"
   ]
  },
  {
   "cell_type": "code",
   "execution_count": 7,
   "id": "cb653b52",
   "metadata": {},
   "outputs": [
    {
     "name": "stdout",
     "output_type": "stream",
     "text": [
      "8\n"
     ]
    }
   ],
   "source": [
    "from catboost import CatBoostClassifier, Pool\n",
    "\n",
    "train_data = [[0, 3],\n",
    "              [4, 1],\n",
    "              [8, 1],\n",
    "              [9, 1]]\n",
    "\n",
    "train_labels = [0, 0, 1, 1]\n",
    "\n",
    "eval_data = [[2, 1],\n",
    "             [3, 1],\n",
    "             [9, 0],\n",
    "             [5, 3]]\n",
    "\n",
    "eval_labels = [0, 1, 1, 0]\n",
    "\n",
    "eval_dataset = Pool(eval_data,\n",
    "                    eval_labels)\n",
    "\n",
    "model = CatBoostClassifier(\n",
    "                           eval_metric='AUC')\n",
    "\n",
    "model.fit(train_data,\n",
    "          train_labels,\n",
    "          eval_set=eval_dataset,\n",
    "          verbose=False)\n",
    "\n",
    "print(model.get_best_iteration())"
   ]
  },
  {
   "cell_type": "markdown",
   "id": "ef6443b5",
   "metadata": {},
   "source": [
    "# 범주형 데이터를 포함한 데이터 셋"
   ]
  },
  {
   "cell_type": "code",
   "execution_count": 8,
   "id": "56687f0a",
   "metadata": {},
   "outputs": [],
   "source": [
    "from catboost import Pool\n",
    "cat_features = [0, 1, 2]\n",
    "data = [[\"a\",\"b\", 1, 4, 5, 6],\n",
    "        [\"a\",\"b\", 4, 5, 6, 7],\n",
    "        [\"c\",\"d\", 30, 40, 50, 60]]\n",
    "\n",
    "label = [1, 1, -1]\n",
    "\n",
    "dataset = Pool(data, label, cat_features)"
   ]
  },
  {
   "cell_type": "markdown",
   "id": "9ab67999",
   "metadata": {},
   "source": [
    "# 범주형 데이터가 없는 데이터 셋"
   ]
  },
  {
   "cell_type": "code",
   "execution_count": 9,
   "id": "d007f545",
   "metadata": {},
   "outputs": [],
   "source": [
    "from catboost import Pool\n",
    "data = [[1, 4, 5, 6],\n",
    "        [4, 5, 6, 7],\n",
    "        [30, 40, 50, 60]]\n",
    "\n",
    "label = [1, 1, -1]\n",
    "dataset = Pool(data, label)"
   ]
  },
  {
   "cell_type": "markdown",
   "id": "f50cfcec",
   "metadata": {},
   "source": [
    "# 레이블이 없는 데이터 셋(예측용)"
   ]
  },
  {
   "cell_type": "code",
   "execution_count": 10,
   "id": "9f243e1b",
   "metadata": {},
   "outputs": [],
   "source": [
    "from catboost import Pool\n",
    "data = [[1, 4, 5, 6],\n",
    "        [4, 5, 6, 7],\n",
    "        [30, 40, 50, 60]]\n",
    "dataset = Pool(data)"
   ]
  },
  {
   "cell_type": "markdown",
   "id": "1ffd4481",
   "metadata": {},
   "source": [
    "# pandas 활용한 데이터 셋 구축"
   ]
  },
  {
   "cell_type": "code",
   "execution_count": 11,
   "id": "bd831bf2",
   "metadata": {},
   "outputs": [
    {
     "data": {
      "text/plain": [
       "<catboost.core.Pool at 0x16d7e9754c0>"
      ]
     },
     "execution_count": 11,
     "metadata": {},
     "output_type": "execute_result"
    }
   ],
   "source": [
    "import numpy as np\n",
    "import pandas as pd\n",
    "\n",
    "import catboost as cb\n",
    "\n",
    "X = pd.DataFrame(\n",
    "    {'a': [ 1, 4, 0,  0, 1],\n",
    "     'b': [ 0, 0, 1,  7, 8],\n",
    "     'c': [30, 0, 0, 50, 0]\n",
    "    }\n",
    ")\n",
    "\n",
    "y = np.array([0, 1, 0, 1, 1])\n",
    "\n",
    "dataset = cb.Pool(X, y)\n",
    "\n",
    "dataset"
   ]
  },
  {
   "cell_type": "code",
   "execution_count": 12,
   "id": "520fa2e4",
   "metadata": {},
   "outputs": [
    {
     "data": {
      "text/html": [
       "<div>\n",
       "<style scoped>\n",
       "    .dataframe tbody tr th:only-of-type {\n",
       "        vertical-align: middle;\n",
       "    }\n",
       "\n",
       "    .dataframe tbody tr th {\n",
       "        vertical-align: top;\n",
       "    }\n",
       "\n",
       "    .dataframe thead th {\n",
       "        text-align: right;\n",
       "    }\n",
       "</style>\n",
       "<table border=\"1\" class=\"dataframe\">\n",
       "  <thead>\n",
       "    <tr style=\"text-align: right;\">\n",
       "      <th></th>\n",
       "      <th>a</th>\n",
       "      <th>b</th>\n",
       "      <th>c</th>\n",
       "      <th>d</th>\n",
       "    </tr>\n",
       "  </thead>\n",
       "  <tbody>\n",
       "    <tr>\n",
       "      <th>0</th>\n",
       "      <td>1</td>\n",
       "      <td>0.0</td>\n",
       "      <td>30</td>\n",
       "      <td>a</td>\n",
       "    </tr>\n",
       "    <tr>\n",
       "      <th>1</th>\n",
       "      <td>4</td>\n",
       "      <td>0.0</td>\n",
       "      <td>0</td>\n",
       "      <td>b</td>\n",
       "    </tr>\n",
       "    <tr>\n",
       "      <th>2</th>\n",
       "      <td>0</td>\n",
       "      <td>1.0</td>\n",
       "      <td>0</td>\n",
       "      <td></td>\n",
       "    </tr>\n",
       "    <tr>\n",
       "      <th>3</th>\n",
       "      <td>0</td>\n",
       "      <td>7.0</td>\n",
       "      <td>50</td>\n",
       "      <td>c</td>\n",
       "    </tr>\n",
       "    <tr>\n",
       "      <th>4</th>\n",
       "      <td>1</td>\n",
       "      <td>8.0</td>\n",
       "      <td>0</td>\n",
       "      <td></td>\n",
       "    </tr>\n",
       "  </tbody>\n",
       "</table>\n",
       "</div>"
      ],
      "text/plain": [
       "   a    b   c  d\n",
       "0  1  0.0  30  a\n",
       "1  4  0.0   0  b\n",
       "2  0  1.0   0   \n",
       "3  0  7.0  50  c\n",
       "4  1  8.0   0   "
      ]
     },
     "execution_count": 12,
     "metadata": {},
     "output_type": "execute_result"
    }
   ],
   "source": [
    "import numpy as np\n",
    "import pandas as pd\n",
    "\n",
    "import catboost as cb\n",
    "\n",
    "X = pd.DataFrame(\n",
    "    {'a': pd.arrays.SparseArray([   1,   4,   0,   0,   1]),\n",
    "     'b': pd.arrays.SparseArray([ 0.0, 0.0, 1.0, 7.0, 8.0]),\n",
    "     'c': pd.arrays.SparseArray([  30,   0,   0,  50,   0]),\n",
    "     'd': pd.arrays.SparseArray([ 'a', 'b',  '', 'c',  ''],\n",
    "                               fill_value=''),\n",
    "    }\n",
    ")\n",
    "\n",
    "y = np.array([0, 1, 0, 1, 1])\n",
    "\n",
    "dataset = cb.Pool(X, y, cat_features=['d'])\n",
    "\n",
    "dataset\n",
    "\n",
    "X"
   ]
  },
  {
   "cell_type": "markdown",
   "id": "446b4fb5",
   "metadata": {},
   "source": [
    "# Pool 타입 슬라이싱"
   ]
  },
  {
   "cell_type": "code",
   "execution_count": 13,
   "id": "4558dad6",
   "metadata": {},
   "outputs": [
    {
     "name": "stdout",
     "output_type": "stream",
     "text": [
      "5\n",
      "3\n"
     ]
    }
   ],
   "source": [
    "from catboost import Pool\n",
    "\n",
    "data = [[1, 3],\n",
    "        [0, 4],\n",
    "        [1, 7],\n",
    "        [6, 4],\n",
    "        [5, 3]]\n",
    "\n",
    "dataset = Pool(data)\n",
    "print(dataset.num_row())\n",
    "\n",
    "dataset_part = dataset.slice([0, 1, 2])\n",
    "print(dataset_part.num_row())"
   ]
  },
  {
   "cell_type": "markdown",
   "id": "5df6c32e",
   "metadata": {},
   "source": [
    "# catboost 교차 검증 수행"
   ]
  },
  {
   "cell_type": "code",
   "execution_count": 14,
   "id": "57725d4d",
   "metadata": {},
   "outputs": [
    {
     "data": {
      "application/vnd.jupyter.widget-view+json": {
       "model_id": "de9dd9c16cc04effbe622eaafd0f812f",
       "version_major": 2,
       "version_minor": 0
      },
      "text/plain": [
       "MetricVisualizer(layout=Layout(align_self='stretch', height='500px'))"
      ]
     },
     "metadata": {},
     "output_type": "display_data"
    }
   ],
   "source": [
    "from catboost import Pool, cv\n",
    "\n",
    "cv_data = [[\"France\", 1924, 44],\n",
    "           [\"USA\", 1932, 37],\n",
    "           [\"Switzerland\", 1928, 25],\n",
    "           [\"Norway\", 1952, 30],\n",
    "           [\"Japan\", 1972, 35],\n",
    "           [\"Mexico\", 1968, 112]]\n",
    "\n",
    "labels = [1, 1, 0, 0, 0, 1]\n",
    "\n",
    "cat_features = [0]\n",
    "\n",
    "cv_dataset = Pool(data=cv_data,\n",
    "                  label=labels,\n",
    "                  cat_features=cat_features)\n",
    "\n",
    "params = {\"iterations\": 100,\n",
    "          \"depth\": 2,\n",
    "          \"loss_function\": \"Logloss\",\n",
    "          \"verbose\": False}\n",
    "\n",
    "scores = cv(cv_dataset,\n",
    "            params,\n",
    "            fold_count=2, \n",
    "            plot=\"True\")"
   ]
  },
  {
   "cell_type": "code",
   "execution_count": null,
   "id": "c752238b",
   "metadata": {},
   "outputs": [],
   "source": []
  }
 ],
 "metadata": {
  "kernelspec": {
   "display_name": "Python 3",
   "language": "python",
   "name": "python3"
  },
  "language_info": {
   "codemirror_mode": {
    "name": "ipython",
    "version": 3
   },
   "file_extension": ".py",
   "mimetype": "text/x-python",
   "name": "python",
   "nbconvert_exporter": "python",
   "pygments_lexer": "ipython3",
   "version": "3.8.8"
  }
 },
 "nbformat": 4,
 "nbformat_minor": 5
}
