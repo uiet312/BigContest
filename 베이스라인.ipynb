{
 "cells": [
  {
   "cell_type": "markdown",
   "id": "9561f6ca",
   "metadata": {},
   "source": [
    "# 라이브러리 불러오기"
   ]
  },
  {
   "cell_type": "code",
   "execution_count": 1,
   "id": "578305ca",
   "metadata": {},
   "outputs": [],
   "source": [
    "import pandas as pd\n",
    "import warnings\n",
    "warnings.filterwarnings(action='ignore')"
   ]
  },
  {
   "cell_type": "markdown",
   "id": "97aa0f23",
   "metadata": {},
   "source": [
    "# 데이터 불러오기"
   ]
  },
  {
   "cell_type": "code",
   "execution_count": 2,
   "id": "4bb4a85d",
   "metadata": {},
   "outputs": [
    {
     "data": {
      "text/plain": [
       "(1098, 16)"
      ]
     },
     "execution_count": 2,
     "metadata": {},
     "output_type": "execute_result"
    }
   ],
   "source": [
    "hitter_2018 = pd.read_csv('data/2018_hitter.csv')\n",
    "hitter_2019 = pd.read_csv('data/2019_hitter.csv')\n",
    "hitter_2020 = pd.read_csv('data/2020_hitter.csv')\n",
    "hitter_2021 = pd.read_csv('data/2021_hitter.csv')\n",
    "\n",
    "hitter = pd.concat([hitter_2018, hitter_2019,\n",
    "                    hitter_2020, hitter_2021])\n",
    "\n",
    "hitter.shape"
   ]
  },
  {
   "cell_type": "markdown",
   "id": "4c1efe30",
   "metadata": {},
   "source": [
    "# 컬럼명 수정"
   ]
  },
  {
   "cell_type": "code",
   "execution_count": 3,
   "id": "71812fc3",
   "metadata": {},
   "outputs": [],
   "source": [
    "hitter.columns = ['연도','선수코드','경기','타석',\n",
    "                  '타수','타율','안타','홈런',\n",
    "                  '루타','장타율','희생플라이','볼넷',\n",
    "                  '삼진','고의사구','사구','병살타']"
   ]
  },
  {
   "cell_type": "markdown",
   "id": "b364bb1d",
   "metadata": {},
   "source": [
    "# 데이터 전처리"
   ]
  },
  {
   "cell_type": "markdown",
   "id": "a7345253",
   "metadata": {},
   "source": [
    "- OPS = 장타율 + 출루율\n",
    "- 장타율 = 1루타 + (2*2루타) + (3*3루타) + (4*홈런) / 타수\n",
    "- 출루율 = (안타 + 사사구) / (타수 + 사사구 + 희생플라이)\n",
    "- 사사구 = 볼넷 + 사구"
   ]
  },
  {
   "cell_type": "code",
   "execution_count": 4,
   "id": "460f2901",
   "metadata": {},
   "outputs": [],
   "source": [
    "hitter['사사구'] = hitter['볼넷'] + hitter['사구']\n",
    "\n",
    "hitter['출루율'] =( hitter['안타'] + hitter['사사구']) / (hitter['타수'] + hitter['사사구'] + hitter['희생플라이'])\n",
    "\n",
    "hitter['OPS'] = hitter['장타율'] + hitter['출루율']"
   ]
  },
  {
   "cell_type": "code",
   "execution_count": 5,
   "id": "b8141780",
   "metadata": {},
   "outputs": [],
   "source": [
    "X = hitter[['선수코드','연도']]\n",
    "y = hitter[['OPS','장타율','출루율']]"
   ]
  },
  {
   "cell_type": "markdown",
   "id": "da58eb06",
   "metadata": {},
   "source": [
    "# 모델링"
   ]
  },
  {
   "cell_type": "code",
   "execution_count": 6,
   "id": "a3733bf1",
   "metadata": {},
   "outputs": [
    {
     "data": {
      "text/plain": [
       "0.8455816280796488"
      ]
     },
     "execution_count": 6,
     "metadata": {},
     "output_type": "execute_result"
    }
   ],
   "source": [
    "from sklearn.ensemble import RandomForestRegressor\n",
    "\n",
    "model = RandomForestRegressor()\n",
    "\n",
    "model.fit(X, y)\n",
    "\n",
    "model.score(X, y)"
   ]
  },
  {
   "cell_type": "markdown",
   "id": "5bab1661",
   "metadata": {},
   "source": [
    "# 예측하기"
   ]
  },
  {
   "cell_type": "code",
   "execution_count": 7,
   "id": "99293c81",
   "metadata": {},
   "outputs": [],
   "source": [
    "temp = []\n",
    "temp = pd.DataFrame(temp)\n",
    "\n",
    "temp['선수코드'] = [76232, 68050, 75847, 67341, 79192, \n",
    "                    78224, 78513, 76290, 79215, 67872]\n",
    "temp['연도'] = [2017] * 10"
   ]
  },
  {
   "cell_type": "code",
   "execution_count": 8,
   "id": "4845fd9c",
   "metadata": {},
   "outputs": [
    {
     "data": {
      "text/plain": [
       "array([[0.98530067, 0.56977   , 0.41553067],\n",
       "       [0.71454864, 0.41167   , 0.30287864],\n",
       "       [0.90246416, 0.52678   , 0.37568416],\n",
       "       [0.81760107, 0.44226   , 0.37534107],\n",
       "       [0.84683929, 0.48928   , 0.35755929],\n",
       "       [0.92161704, 0.5419    , 0.37971704],\n",
       "       [0.83875963, 0.50682   , 0.33193963],\n",
       "       [0.98969629, 0.58146   , 0.40823629],\n",
       "       [0.84713204, 0.46292   , 0.38421204],\n",
       "       [0.87870455, 0.50739   , 0.37131455]])"
      ]
     },
     "execution_count": 8,
     "metadata": {},
     "output_type": "execute_result"
    }
   ],
   "source": [
    "pred = model.predict(temp)\n",
    "pred"
   ]
  },
  {
   "cell_type": "markdown",
   "id": "53abee65",
   "metadata": {},
   "source": [
    "# 제출 파일 생성"
   ]
  },
  {
   "cell_type": "code",
   "execution_count": 9,
   "id": "8a1bf998",
   "metadata": {},
   "outputs": [],
   "source": [
    "test = pd.read_excel('data/test.xlsx')\n",
    "submission = test.iloc[1:11,:]\n",
    "PCODE = [76232, 68050, 75847, 67341, 79192, \n",
    "         78224, 78513, 76290, 79215, 67872]\n",
    "\n",
    "submission['PCODE'] = PCODE\n",
    "\n",
    "# submission : 제출 양식"
   ]
  },
  {
   "cell_type": "code",
   "execution_count": 10,
   "id": "e5889d58",
   "metadata": {},
   "outputs": [
    {
     "data": {
      "text/html": [
       "<div>\n",
       "<style scoped>\n",
       "    .dataframe tbody tr th:only-of-type {\n",
       "        vertical-align: middle;\n",
       "    }\n",
       "\n",
       "    .dataframe tbody tr th {\n",
       "        vertical-align: top;\n",
       "    }\n",
       "\n",
       "    .dataframe thead th {\n",
       "        text-align: right;\n",
       "    }\n",
       "</style>\n",
       "<table border=\"1\" class=\"dataframe\">\n",
       "  <thead>\n",
       "    <tr style=\"text-align: right;\">\n",
       "      <th></th>\n",
       "      <th>NO.</th>\n",
       "      <th>PCODE</th>\n",
       "      <th>OPS</th>\n",
       "      <th>장타율</th>\n",
       "      <th>출루율</th>\n",
       "    </tr>\n",
       "  </thead>\n",
       "  <tbody>\n",
       "    <tr>\n",
       "      <th>1</th>\n",
       "      <td>1</td>\n",
       "      <td>76232</td>\n",
       "      <td>0.985301</td>\n",
       "      <td>0.56977</td>\n",
       "      <td>0.415531</td>\n",
       "    </tr>\n",
       "    <tr>\n",
       "      <th>2</th>\n",
       "      <td>2</td>\n",
       "      <td>68050</td>\n",
       "      <td>0.714549</td>\n",
       "      <td>0.41167</td>\n",
       "      <td>0.302879</td>\n",
       "    </tr>\n",
       "    <tr>\n",
       "      <th>3</th>\n",
       "      <td>3</td>\n",
       "      <td>75847</td>\n",
       "      <td>0.902464</td>\n",
       "      <td>0.52678</td>\n",
       "      <td>0.375684</td>\n",
       "    </tr>\n",
       "    <tr>\n",
       "      <th>4</th>\n",
       "      <td>4</td>\n",
       "      <td>67341</td>\n",
       "      <td>0.817601</td>\n",
       "      <td>0.44226</td>\n",
       "      <td>0.375341</td>\n",
       "    </tr>\n",
       "    <tr>\n",
       "      <th>5</th>\n",
       "      <td>5</td>\n",
       "      <td>79192</td>\n",
       "      <td>0.846839</td>\n",
       "      <td>0.48928</td>\n",
       "      <td>0.357559</td>\n",
       "    </tr>\n",
       "    <tr>\n",
       "      <th>6</th>\n",
       "      <td>6</td>\n",
       "      <td>78224</td>\n",
       "      <td>0.921617</td>\n",
       "      <td>0.54190</td>\n",
       "      <td>0.379717</td>\n",
       "    </tr>\n",
       "    <tr>\n",
       "      <th>7</th>\n",
       "      <td>7</td>\n",
       "      <td>78513</td>\n",
       "      <td>0.838760</td>\n",
       "      <td>0.50682</td>\n",
       "      <td>0.331940</td>\n",
       "    </tr>\n",
       "    <tr>\n",
       "      <th>8</th>\n",
       "      <td>8</td>\n",
       "      <td>76290</td>\n",
       "      <td>0.989696</td>\n",
       "      <td>0.58146</td>\n",
       "      <td>0.408236</td>\n",
       "    </tr>\n",
       "    <tr>\n",
       "      <th>9</th>\n",
       "      <td>9</td>\n",
       "      <td>79215</td>\n",
       "      <td>0.847132</td>\n",
       "      <td>0.46292</td>\n",
       "      <td>0.384212</td>\n",
       "    </tr>\n",
       "    <tr>\n",
       "      <th>10</th>\n",
       "      <td>10</td>\n",
       "      <td>67872</td>\n",
       "      <td>0.878705</td>\n",
       "      <td>0.50739</td>\n",
       "      <td>0.371315</td>\n",
       "    </tr>\n",
       "  </tbody>\n",
       "</table>\n",
       "</div>"
      ],
      "text/plain": [
       "   NO.  PCODE       OPS      장타율       출루율\n",
       "1    1  76232  0.985301  0.56977  0.415531\n",
       "2    2  68050  0.714549  0.41167  0.302879\n",
       "3    3  75847  0.902464  0.52678  0.375684\n",
       "4    4  67341  0.817601  0.44226  0.375341\n",
       "5    5  79192  0.846839  0.48928  0.357559\n",
       "6    6  78224  0.921617  0.54190  0.379717\n",
       "7    7  78513  0.838760  0.50682  0.331940\n",
       "8    8  76290  0.989696  0.58146  0.408236\n",
       "9    9  79215  0.847132  0.46292  0.384212\n",
       "10  10  67872  0.878705  0.50739  0.371315"
      ]
     },
     "execution_count": 10,
     "metadata": {},
     "output_type": "execute_result"
    }
   ],
   "source": [
    "submission['OPS'] = pred[:,0]\n",
    "submission['장타율'] = pred[:,1]\n",
    "submission['출루율'] = pred[:,2]\n",
    "\n",
    "submission"
   ]
  }
 ],
 "metadata": {
  "kernelspec": {
   "display_name": "Python 3",
   "language": "python",
   "name": "python3"
  },
  "language_info": {
   "codemirror_mode": {
    "name": "ipython",
    "version": 3
   },
   "file_extension": ".py",
   "mimetype": "text/x-python",
   "name": "python",
   "nbconvert_exporter": "python",
   "pygments_lexer": "ipython3",
   "version": "3.8.8"
  }
 },
 "nbformat": 4,
 "nbformat_minor": 5
}
