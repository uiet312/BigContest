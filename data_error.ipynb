{
 "cells": [
  {
   "cell_type": "code",
   "execution_count": 1,
   "id": "62df63c8",
   "metadata": {},
   "outputs": [],
   "source": [
    "import pandas as pd\n",
    "\n",
    "hitter_2018 = pd.read_csv('data/2018_hitter.csv')\n",
    "hitter_2019 = pd.read_csv('data/2019_hitter.csv')\n",
    "hitter_2020 = pd.read_csv('data/2020_hitter.csv')\n",
    "hitter_2021 = pd.read_csv('data/2021_hitter.csv')\n",
    "\n",
    "hitter = pd.concat([hitter_2018, hitter_2019,\n",
    "                    hitter_2020, hitter_2021])\n",
    "\n",
    "batting_2018 = pd.read_csv('data/2018_batting.csv', encoding='cp949')\n",
    "batting_2019 = pd.read_csv('data/2019_batting.csv', encoding='cp949')\n",
    "batting_2020 = pd.read_csv('data/2020_batting.csv', encoding='cp949')\n",
    "batting_2021 = pd.read_csv('data/2021_batting.csv', encoding='cp949')\n",
    "\n",
    "batting = pd.concat([batting_2018, batting_2019,\n",
    "                     batting_2020, batting_2021])\n",
    "\n",
    "hitter.columns = ['연도','선수코드','경기','타석',\n",
    "                  '타수','타율','안타','홈런',\n",
    "                  '루타','장타율','희생플라이','볼넷',\n",
    "                  '삼진','고의사구','사구','병살타']\n",
    "\n",
    "batting.columns = ['연도','경기코드','타구코드','선수코드',\n",
    "                   '팀코드','이닝','타구속도','발사각도',\n",
    "                   '타석결과','상대투수 타구구속','구장']"
   ]
  },
  {
   "cell_type": "code",
   "execution_count": 13,
   "id": "f5606ceb",
   "metadata": {},
   "outputs": [],
   "source": [
    "def data_error():\n",
    "    code = int(input(\"선수코드 : \"))\n",
    "    year = int(input(\"연도 : \"))\n",
    "    \n",
    "    print()\n",
    "    print(\"hitter\")\n",
    "    display(hitter[(hitter['선수코드'] == code) & (hitter['연도'] == year)])\n",
    "    print(\"batting\")\n",
    "    display(pd.DataFrame(batting[(batting['선수코드'] == code) & (batting['연도'] == year)]['타석결과'].value_counts()).T)"
   ]
  },
  {
   "cell_type": "code",
   "execution_count": 15,
   "id": "bb7b6f80",
   "metadata": {},
   "outputs": [
    {
     "name": "stdout",
     "output_type": "stream",
     "text": [
      "선수코드 : 50054\n",
      "연도 : 2021\n",
      "\n",
      "hitter\n"
     ]
    },
    {
     "data": {
      "text/html": [
       "<div>\n",
       "<style scoped>\n",
       "    .dataframe tbody tr th:only-of-type {\n",
       "        vertical-align: middle;\n",
       "    }\n",
       "\n",
       "    .dataframe tbody tr th {\n",
       "        vertical-align: top;\n",
       "    }\n",
       "\n",
       "    .dataframe thead th {\n",
       "        text-align: right;\n",
       "    }\n",
       "</style>\n",
       "<table border=\"1\" class=\"dataframe\">\n",
       "  <thead>\n",
       "    <tr style=\"text-align: right;\">\n",
       "      <th></th>\n",
       "      <th>연도</th>\n",
       "      <th>선수코드</th>\n",
       "      <th>경기</th>\n",
       "      <th>타석</th>\n",
       "      <th>타수</th>\n",
       "      <th>타율</th>\n",
       "      <th>안타</th>\n",
       "      <th>홈런</th>\n",
       "      <th>루타</th>\n",
       "      <th>장타율</th>\n",
       "      <th>희생플라이</th>\n",
       "      <th>볼넷</th>\n",
       "      <th>삼진</th>\n",
       "      <th>고의사구</th>\n",
       "      <th>사구</th>\n",
       "      <th>병살타</th>\n",
       "    </tr>\n",
       "  </thead>\n",
       "  <tbody>\n",
       "    <tr>\n",
       "      <th>0</th>\n",
       "      <td>2021</td>\n",
       "      <td>50054</td>\n",
       "      <td>25</td>\n",
       "      <td>28</td>\n",
       "      <td>25</td>\n",
       "      <td>0.2</td>\n",
       "      <td>5</td>\n",
       "      <td>0</td>\n",
       "      <td>5</td>\n",
       "      <td>0.2</td>\n",
       "      <td>0</td>\n",
       "      <td>1</td>\n",
       "      <td>5</td>\n",
       "      <td>0</td>\n",
       "      <td>2</td>\n",
       "      <td>0</td>\n",
       "    </tr>\n",
       "  </tbody>\n",
       "</table>\n",
       "</div>"
      ],
      "text/plain": [
       "     연도   선수코드  경기  타석  타수   타율  안타  홈런  루타  장타율  희생플라이  볼넷  삼진  고의사구  사구  병살타\n",
       "0  2021  50054  25  28  25  0.2   5   0   5  0.2      0   1   5     0   2    0"
      ]
     },
     "metadata": {},
     "output_type": "display_data"
    },
    {
     "name": "stdout",
     "output_type": "stream",
     "text": [
      "batting\n"
     ]
    },
    {
     "data": {
      "text/html": [
       "<div>\n",
       "<style scoped>\n",
       "    .dataframe tbody tr th:only-of-type {\n",
       "        vertical-align: middle;\n",
       "    }\n",
       "\n",
       "    .dataframe tbody tr th {\n",
       "        vertical-align: top;\n",
       "    }\n",
       "\n",
       "    .dataframe thead th {\n",
       "        text-align: right;\n",
       "    }\n",
       "</style>\n",
       "<table border=\"1\" class=\"dataframe\">\n",
       "  <thead>\n",
       "    <tr style=\"text-align: right;\">\n",
       "      <th></th>\n",
       "      <th>땅볼아웃</th>\n",
       "      <th>플라이</th>\n",
       "      <th>1루타</th>\n",
       "      <th>내야안타(1루타)</th>\n",
       "    </tr>\n",
       "  </thead>\n",
       "  <tbody>\n",
       "    <tr>\n",
       "      <th>타석결과</th>\n",
       "      <td>5</td>\n",
       "      <td>4</td>\n",
       "      <td>3</td>\n",
       "      <td>1</td>\n",
       "    </tr>\n",
       "  </tbody>\n",
       "</table>\n",
       "</div>"
      ],
      "text/plain": [
       "      땅볼아웃  플라이  1루타  내야안타(1루타)\n",
       "타석결과     5    4    3          1"
      ]
     },
     "metadata": {},
     "output_type": "display_data"
    }
   ],
   "source": [
    "data_error()"
   ]
  },
  {
   "cell_type": "code",
   "execution_count": 23,
   "id": "48db48e1",
   "metadata": {},
   "outputs": [
    {
     "data": {
      "text/plain": [
       "플라이          36540\n",
       "1루타          29235\n",
       "땅볼아웃         26507\n",
       "2루타           8146\n",
       "홈런            4732\n",
       "파울플라이         4097\n",
       "직선타           3602\n",
       "병살타           3085\n",
       "내야안타(1루타)     1810\n",
       "희생플라이         1603\n",
       "3루타            672\n",
       "인필드플라이         331\n",
       "희생번트           239\n",
       "야수선택            52\n",
       "번트안타            48\n",
       "번트아웃            44\n",
       "삼중살타             2\n",
       "Name: 타석결과, dtype: int64"
      ]
     },
     "execution_count": 23,
     "metadata": {},
     "output_type": "execute_result"
    }
   ],
   "source": [
    "batting['타석결과'].value_counts()"
   ]
  },
  {
   "cell_type": "code",
   "execution_count": 20,
   "id": "ae591075",
   "metadata": {},
   "outputs": [
    {
     "data": {
      "text/plain": [
       "<matplotlib.collections.PathCollection at 0x2456085d700>"
      ]
     },
     "execution_count": 20,
     "metadata": {},
     "output_type": "execute_result"
    },
    {
     "data": {
      "image/png": "[encoded data removed]",
      "text/plain": [
       "<Figure size 432x288 with 1 Axes>"
      ]
     },
     "metadata": {
      "needs_background": "light"
     },
     "output_type": "display_data"
    }
   ],
   "source": [
    "import matplotlib.pyplot as plt\n",
    "\n",
    "plt.scatter(hitter['장타율'], hitter.index)"
   ]
  },
  {
   "cell_type": "code",
   "execution_count": null,
   "id": "7aa6c437",
   "metadata": {},
   "outputs": [],
   "source": [
    "ops 2.0    1타수 1안타 1장타"
   ]
  },
  {
   "cell_type": "code",
   "execution_count": null,
   "id": "a8d120d7",
   "metadata": {},
   "outputs": [],
   "source": [
    "# 에러 선수코드 : 50054 - 2021년"
   ]
  },
  {
   "cell_type": "code",
   "execution_count": 8,
   "id": "4747ea78",
   "metadata": {},
   "outputs": [
    {
     "data": {
      "text/plain": [
       "0.35384615384615387"
      ]
     },
     "execution_count": 8,
     "metadata": {},
     "output_type": "execute_result"
    }
   ],
   "source": [
    "138/390"
   ]
  },
  {
   "cell_type": "code",
   "execution_count": null,
   "id": "cf80ccae",
   "metadata": {},
   "outputs": [],
   "source": []
  }
 ],
 "metadata": {
  "kernelspec": {
   "display_name": "Python 3",
   "language": "python",
   "name": "python3"
  },
  "language_info": {
   "codemirror_mode": {
    "name": "ipython",
    "version": 3
   },
   "file_extension": ".py",
   "mimetype": "text/x-python",
   "name": "python",
   "nbconvert_exporter": "python",
   "pygments_lexer": "ipython3",
   "version": "3.8.8"
  }
 },
 "nbformat": 4,
 "nbformat_minor": 5
}
